{
 "cells": [
  {
   "cell_type": "markdown",
   "metadata": {},
   "source": [
    "# Scopes explained\n",
    "From the Docs:  \n",
    "\n",
    "A namespace is a mapping from names to objects.\n",
    "Examples of namespaces are: the set of built-in names (containing functions such as abs(), and built-in exception names); the global names in a module; and the local names in a function invocation. In a sense the set of attributes of an object also form a namespace. The important thing to know about namespaces is that there is absolutely no relation between names in different namespaces; for instance, two different modules may both define a function maximize without confusion — users of the modules must prefix it with the module name.\n",
    "By the way, I use the word attribute for any name following a dot — for example, in the expression z.real, real is an attribute of the object z. Strictly speaking, references to names in modules are attribute references: in the expression modname.funcname, modname is a module object and funcname is an attribute of it. In this case there happens to be a straightforward mapping between the module’s attributes and the global names defined in the module: they share the same namespace!\n",
    "***Namespaces are created at different moments and have different lifetimes.*** The namespace containing the built-in names is created when the Python interpreter starts up, and is never deleted. The global namespace for a module is created when the module definition is read in; normally, module namespaces also last until the interpreter quits. The statements executed by the top-level invocation of the interpreter, either read from a script file or interactively, are considered part of a module called __main__, so they have their own global namespace. (The built-in names actually also live in a module; this is called builtins.)\n",
    "\n",
    "***The local namespace for a function is created when the function is called, and deleted when the function returns or raises an exception that is not handled within the function.*** (Actually, forgetting would be a better way to describe what actually happens.) Of course, recursive invocations each have their own local namespace.\n",
    "\n",
    "A scope is a textual region of a Python program where a namespace is directly accessible. “Directly accessible” here means that an unqualified reference to a name attempts to find the name in the namespace.\n",
    "\n",
    "Although scopes are determined statically, they are used dynamically. At any time during execution, there are 3 or 4 nested scopes whose namespaces are directly accessible:\n",
    "\n",
    "the ***innermost scope, which is searched first, contains the local names***\n",
    "\n",
    "the ***scopes of any enclosing functions, which are searched starting with the nearest enclosing scope, contains non-local, but also non-global names***\n",
    "\n",
    "the ***next-to-last scope contains the current module’s global names***\n",
    "\n",
    "the ***outermost scope (searched last) is the namespace containing built-in names***\n",
    "\n",
    "***If a name is declared global, then all references and assignments go directly to the middle scope containing the module’s global names. To rebind variables found outside of the innermost scope, the nonlocal statement can be used; if not declared nonlocal, those variables are read-only (an attempt to write to such a variable will simply create a new local variable in the innermost scope, leaving the identically named outer variable unchanged).***\n",
    "\n",
    "***Usually, the local scope references the local names of the (textually) current function. Outside functions, the local scope references the same namespace as the global scope: the module’s namespace.*** Class definitions place yet another namespace in the local scope.\n",
    "\n",
    "***It is important to realize that scopes are determined textually: the global scope of a function defined in a module is that module’s namespace, no matter from where or by what alias the function is called. On the other hand, the actual search for names is done dynamically, at run time*** — however, the language definition is evolving towards static name resolution, at “compile” time, so don’t rely on dynamic name resolution! (In fact, local variables are already determined statically.)\n",
    "\n",
    "***A special quirk of Python is that – if no global or nonlocal statement is in effect – assignments to names always go into the innermost scope. Assignments do not copy data — they just bind names to objects. The same is true for deletions: the statement del x removes the binding of x from the namespace referenced by the local scope. In fact, all operations that introduce new names use the local scope: in particular, import statements and function definitions bind the module or function name in the local scope.***\n",
    "\n",
    "The global statement can be used to indicate that particular variables live in the global scope and should be rebound there; the nonlocal statement indicates that particular variables live in an enclosing scope and should be rebound there.\n",
    "\n",
    "Let's look at an actual example!"
   ]
  },
  {
   "cell_type": "code",
   "execution_count": 11,
   "metadata": {},
   "outputs": [
    {
     "name": "stdout",
     "output_type": "stream",
     "text": [
      "After local assignment: test spam\n",
      "After nonlocal assignment: nonlocal spam\n",
      "After global assignment: nonlocal spam\n",
      "In global scope: global spam\n"
     ]
    }
   ],
   "source": [
    "def scope_test():\n",
    "    def do_local():\n",
    "        # this just creates a local variable in the do_local() namespaces\n",
    "        spam = \"local spam\"\n",
    "\n",
    "    def do_nonlocal():\n",
    "        # this successfully assings the value to the scope_test() namespaces\n",
    "        nonlocal spam\n",
    "        spam = \"nonlocal spam\"\n",
    "\n",
    "    def do_global():\n",
    "        # this successfully assings the value to the module namespace\n",
    "        global spam\n",
    "        spam = \"global spam\"\n",
    "\n",
    "    spam = \"test spam\"\n",
    "    do_local()\n",
    "    print(\"After local assignment:\", spam)\n",
    "    do_nonlocal()\n",
    "    print(\"After nonlocal assignment:\", spam)\n",
    "    do_global()\n",
    "    print(\"After global assignment:\", spam)\n",
    "\n",
    "scope_test()\n",
    "print(\"In global scope:\", spam)"
   ]
  },
  {
   "cell_type": "markdown",
   "metadata": {},
   "source": [
    "To understand this code block better the following statements is very important:\n",
    "> It is important to realize that scopes are determined textually: the global scope of a function defined in a module is that module’s namespace, no matter from where or by what alias the function is called. On the other hand, the actual search for names is done dynamically, at run time\n",
    "\n",
    "So the search for names is done at run time, so where we try to access a value of a variable does play a role. For example if we were to print a value inside a function, then the interpreter would look inside that local scope of that function for that variable first and then inside the scope of the function that lies outside of the initial function. It would continue all the way to the module scope, if the variable still was not found. If the variable was still not found in the modul scope then the last resort would be the builtins namespace. If the variable is still not found then our familiar NameError will be thrown.  \n",
    "\n",
    "The nested function tries to illustrate that point:"
   ]
  },
  {
   "cell_type": "code",
   "execution_count": 12,
   "metadata": {},
   "outputs": [
    {
     "name": "stdout",
     "output_type": "stream",
     "text": [
      "mail inside innermost(): innermost mail\n",
      "mail inside first_nested(): first_nested mail\n",
      "mail inside second_nested(): second_nested mail\n"
     ]
    }
   ],
   "source": [
    "def illustrate_dynamic_search():\n",
    "    def second_nested():\n",
    "        # the second_nested function\n",
    "        def first_nested():\n",
    "            # the first_nested function\n",
    "            def innermost():\n",
    "                # the innermost function\n",
    "                mail = \"innermost mail\"\n",
    "                print(\"mail inside innermost():\", mail)\n",
    "            innermost()\n",
    "            mail = \"first_nested mail\"\n",
    "            print(\"mail inside first_nested():\", mail)\n",
    "        first_nested()\n",
    "        mail = \"second_nested mail\"\n",
    "        print(\"mail inside second_nested():\", mail)\n",
    "    second_nested()\n",
    "        \n",
    "illustrate_dynamic_search()"
   ]
  },
  {
   "cell_type": "code",
   "execution_count": 10,
   "metadata": {},
   "outputs": [
    {
     "ename": "NameError",
     "evalue": "name 'mail' is not defined",
     "output_type": "error",
     "traceback": [
      "\u001b[1;31m---------------------------------------------------------------------------\u001b[0m",
      "\u001b[1;31mNameError\u001b[0m                                 Traceback (most recent call last)",
      "\u001b[1;32m<ipython-input-10-3dfc2f5af3c5>\u001b[0m in \u001b[0;36m<module>\u001b[1;34m\u001b[0m\n\u001b[0;32m      1\u001b[0m \u001b[1;31m# the familiar NameError because mail existed only in namespaces of functions and once they were executed their namespaces were deleted.\u001b[0m\u001b[1;33m\u001b[0m\u001b[1;33m\u001b[0m\u001b[1;33m\u001b[0m\u001b[0m\n\u001b[1;32m----> 2\u001b[1;33m \u001b[0mprint\u001b[0m\u001b[1;33m(\u001b[0m\u001b[0mmail\u001b[0m\u001b[1;33m)\u001b[0m\u001b[1;33m\u001b[0m\u001b[1;33m\u001b[0m\u001b[0m\n\u001b[0m",
      "\u001b[1;31mNameError\u001b[0m: name 'mail' is not defined"
     ]
    }
   ],
   "source": [
    "# the familiar NameError because mail existed only in namespaces of functions and once they were executed their namespaces were deleted.\n",
    "print(mail)"
   ]
  },
  {
   "cell_type": "markdown",
   "metadata": {},
   "source": [
    "So let's have a look at the first code block now.\n",
    "\n",
    "## Why did do_local() did not affect the output?\n",
    "So do_local did not change the output of the print statement because of the following:\n",
    "> To rebind variables found outside of the innermost scope, the nonlocal statement can be used; if not declared nonlocal, those variables are read-only (an attempt to write to such a variable will simply create a new local variable in the innermost scope, leaving the identically named outer variable unchanged).\n",
    "\n",
    ">A special quirk of Python is that – if no global or nonlocal statement is in effect – assignments to names always go into the innermost scope.\n",
    "\n",
    "The innermost scope was the scope of do_local() as it is the innermost function at that specific moment and as the variable spam was outside the scope of do_local the assignment did not change spam but instead created a local variable spam inside the do_local() scope with the same name. But after the execution of do_local() that namespace and with it its scope were deleted again.\n",
    "> The local namespace for a function is created when the function is called, and deleted when the function returns or raises an exception that is not handled within the function.\n",
    "\n",
    "## Why did do_non_local() affect the output=\n",
    "Consequently, the use of nonlocal succeeded in assigning the value \"nonlocal spam\" to the spam variable. As repetitive it might sound:\n",
    "> To rebind variables found outside of the innermost scope, the nonlocal statement can be used\n",
    "\n",
    "## Why did do_global() did not affect the output inside the function?\n",
    "> If a name is declared global, then all references and assignments go directly to the middle scope containing the module’s global names.  \n",
    "\n",
    "Thus, the search started at the innermost scope, now the scope of scope_test() and here we assigned the value \"nonlocal spam\" with the nonlocal statement previously. After the execution of the scope_test() its scope is also deleted and as we assigned the value of \"global spam\" to spam for the middle scope (where the module's global names) the print function will also print this value.\n"
   ]
  }
 ],
 "metadata": {
  "kernelspec": {
   "display_name": "Python 3",
   "language": "python",
   "name": "python3"
  },
  "language_info": {
   "codemirror_mode": {
    "name": "ipython",
    "version": 3
   },
   "file_extension": ".py",
   "mimetype": "text/x-python",
   "name": "python",
   "nbconvert_exporter": "python",
   "pygments_lexer": "ipython3",
   "version": "3.8.5"
  }
 },
 "nbformat": 4,
 "nbformat_minor": 4
}
